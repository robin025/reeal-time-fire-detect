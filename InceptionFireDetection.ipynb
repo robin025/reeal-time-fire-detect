{
  "cells": [
    {
      "cell_type": "code",
      "execution_count": 5,
      "metadata": {
        "colab": {
          "base_uri": "https://localhost:8080/",
          "height": 1000
        },
        "colab_type": "code",
        "id": "OUwtFOwsmhgP",
        "outputId": "7aa138d2-965e-46ec-9d7f-27946f1b5490"
      },
      "outputs": [],
      "source": [
        "    ## Training data:  with Inception V3 model to increase the accuracy of the model."
      ]
    },
    {
      "cell_type": "code",
      "execution_count": null,
      "metadata": {
        "colab": {},
        "colab_type": "code",
        "id": "IfTMcbrwGZcP"
      },
      "outputs": [],
      "source": [
        "## We will use a different dataset [3] this time, the one which contains outdoor as well as indoor fire images. I have trained our previous CNN model in this dataset and the result was that it overfitted, as it could not handle this comparatively larger dataset and learn complex features from the images.\n",
        "\n",
        "## Let’s start with creating the ImageDataGenerator for our customized InceptionV3. The dataset contains 3 classes but for this article, we will only use 2 classes. It contains 1800 images for training and 200 images for validation. "
      ]
    },
    {
      "cell_type": "code",
      "execution_count": null,
      "metadata": {
        "colab": {
          "base_uri": "https://localhost:8080/",
          "height": 54
        },
        "colab_type": "code",
        "id": "M3OBXeh6VWr0",
        "outputId": "3f7bd6d4-e5bc-4fd2-c6b2-925995be836f"
      },
      "outputs": [
        {
          "name": "stdout",
          "output_type": "stream",
          "text": [
            "Found 1808 images belonging to 2 classes.\n",
            "Found 200 images belonging to 2 classes.\n"
          ]
        }
      ],
      "source": [
        "import tensorflow as tf\n",
        "import keras_preprocessing\n",
        "from keras_preprocessing import image\n",
        "from keras_preprocessing.image import ImageDataGenerator\n",
        "import shutil\n",
        "TRAINING_DIR = \"/content/FIRE-SMOKE-DATASET/Train\"\n",
        "\n",
        "training_datagen = ImageDataGenerator(brightness_range=[0.5, 1.5],rescale=1./255,zoom_range=0.15,horizontal_flip=True,brightness_range=[0.5, 1.5],height_shift_range=0.2,width_shift_range=0.2,fill_mode='nearest'\n",
        "\t\t\t\t\t\t\t\t\t\t\t\t\t\t\t\t\t\t\tzoom_range=0.15,\n",
        "\t\t\t\t\t\t\t\t\t\t\t\t\t\t\t\t\t\t\thorizontal_flip=True,\n",
        "                                      fill_mode='nearest')\n",
        "\n",
        "VALIDATION_DIR = \"/content/FIRE-SMOKE-DATASET/Test\"\n",
        "validation_datagen = ImageDataGenerator(rescale = 1./255)\n",
        "\n",
        "train_generator = training_datagen.flow_from_directory(\n",
        "\tTRAINING_DIR,\n",
        "\ttarget_size=(224,224),\n",
        "\tshuffle = True,\n",
        "\tclass_mode='categorical',\n",
        "  batch_size = 128\n",
        ")\n",
        "\n",
        "validation_generator = validation_datagen.flow_from_directory(\n",
        "\tVALIDATION_DIR,\n",
        "\ttarget_size=(224,224),\n",
        "\tclass_mode='categorical',\n",
        "\tshuffle = True,\n",
        "  batch_size= 14\n",
        ")"
      ]
    },
    {
      "cell_type": "code",
      "execution_count": 1,
      "metadata": {},
      "outputs": [],
      "source": [
        "## Let’s import our InceptionV3 model from the Keras API. We will add our layers at the top of the InceptionV3 model as shown below. We will add a global spatial average pooling layer followed by 2 dense layers and 2 dropout layers to ensure that our model does not overfit. At last, we will add a softmax activated dense layer for 2 classes.\n",
        "\n",
        "# Next, we will first train only the layers that we added and are randomly initialized. We will use RMSprop as an optimizer here.\n",
        "\n"
      ]
    },
    {
      "cell_type": "code",
      "execution_count": null,
      "metadata": {
        "colab": {
          "base_uri": "https://localhost:8080/",
          "height": 74
        },
        "colab_type": "code",
        "id": "HH1NABoFzDd0",
        "outputId": "f5c9368f-3cd9-4c49-fcc3-f3182e15ad9b"
      },
      "outputs": [],
      "source": [
        "from tensorflow.keras.applications.inception_v3 import InceptionV3\n",
        "from tensorflow.keras.preprocessing import image\n",
        "from tensorflow.keras.models import Model\n",
        "from tensorflow.keras.layers import Dense, GlobalAveragePooling2D, Input, Dropout\n",
        "\n",
        "input_tensor = Input(shape=(224, 224, 3))\n",
        "\n",
        "base_model = InceptionV3(input_tensor=input_tensor, weights='imagenet', include_top=False)\n",
        "\n",
        "# add a global spatial average pooling layer\n",
        "x = base_model.output\n",
        "x = GlobalAveragePooling2D()(x)\n",
        "x = Dense(2048, activation='relu')(x)\n",
        "x = Dropout(0.25)(x)\n",
        "x = Dense(1024, activation='relu')(x)\n",
        "x = Dropout(0.2)(x)\n",
        "predictions = Dense(2, activation='softmax')(x)\n",
        "\n",
        "model = Model(inputs=base_model.input, outputs=predictions)\n",
        "\n",
        "for layer in base_model.layers:\n",
        "    layer.trainable = False\n",
        "\n",
        "model.compile(optimizer='rmsprop', loss='categorical_crossentropy', metrics=['acc'])"
      ]
    },
    {
      "cell_type": "code",
      "execution_count": null,
      "metadata": {
        "colab": {
          "base_uri": "https://localhost:8080/",
          "height": 745
        },
        "colab_type": "code",
        "id": "l5Uua4-UUP5k",
        "outputId": "c2ddabee-31d9-4d61-b4f2-2ef5231e2acb"
      },
      "outputs": [
        {
          "name": "stdout",
          "output_type": "stream",
          "text": [
            "Epoch 1/20\n",
            "14/14 [==============================] - 21s 1s/step - loss: 7.5593 - acc: 0.7696 - val_loss: 0.1244 - val_acc: 0.9541\n",
            "Epoch 2/20\n",
            "14/14 [==============================] - 21s 1s/step - loss: 0.1125 - acc: 0.9571 - val_loss: 0.1134 - val_acc: 0.9541\n",
            "Epoch 3/20\n",
            "14/14 [==============================] - 21s 1s/step - loss: 0.2159 - acc: 0.9381 - val_loss: 0.1518 - val_acc: 0.9592\n",
            "Epoch 4/20\n",
            "14/14 [==============================] - 21s 1s/step - loss: 0.5991 - acc: 0.9155 - val_loss: 0.3868 - val_acc: 0.8316\n",
            "Epoch 5/20\n",
            "14/14 [==============================] - 21s 1s/step - loss: 0.1680 - acc: 0.9452 - val_loss: 0.5727 - val_acc: 0.8571\n",
            "Epoch 6/20\n",
            "14/14 [==============================] - 21s 1s/step - loss: 0.1073 - acc: 0.9583 - val_loss: 1.3767 - val_acc: 0.7857\n",
            "Epoch 7/20\n",
            "14/14 [==============================] - 21s 2s/step - loss: 0.2552 - acc: 0.9256 - val_loss: 0.1011 - val_acc: 0.9592\n",
            "Epoch 8/20\n",
            "14/14 [==============================] - 21s 1s/step - loss: 0.0424 - acc: 0.9827 - val_loss: 3.3625 - val_acc: 0.5000\n",
            "Epoch 9/20\n",
            "14/14 [==============================] - 20s 1s/step - loss: 0.3595 - acc: 0.9327 - val_loss: 0.1008 - val_acc: 0.9643\n",
            "Epoch 10/20\n",
            "14/14 [==============================] - 21s 1s/step - loss: 0.0716 - acc: 0.9708 - val_loss: 0.1218 - val_acc: 0.9592\n",
            "Epoch 11/20\n",
            "14/14 [==============================] - 21s 1s/step - loss: 0.1016 - acc: 0.9673 - val_loss: 0.2396 - val_acc: 0.9337\n",
            "Epoch 12/20\n",
            "14/14 [==============================] - 21s 1s/step - loss: 0.0807 - acc: 0.9774 - val_loss: 0.1337 - val_acc: 0.9643\n",
            "Epoch 13/20\n",
            "14/14 [==============================] - 21s 1s/step - loss: 0.1061 - acc: 0.9673 - val_loss: 1.0807 - val_acc: 0.7857\n",
            "Epoch 14/20\n",
            "14/14 [==============================] - 21s 2s/step - loss: 0.1685 - acc: 0.9643 - val_loss: 0.1199 - val_acc: 0.9592\n",
            "Epoch 15/20\n",
            "14/14 [==============================] - 21s 1s/step - loss: 0.0310 - acc: 0.9863 - val_loss: 0.1397 - val_acc: 0.9541\n",
            "Epoch 16/20\n",
            "14/14 [==============================] - 21s 2s/step - loss: 0.2060 - acc: 0.9673 - val_loss: 0.1576 - val_acc: 0.9592\n",
            "Epoch 17/20\n",
            "14/14 [==============================] - 21s 1s/step - loss: 0.0587 - acc: 0.9815 - val_loss: 0.2435 - val_acc: 0.9235\n",
            "Epoch 18/20\n",
            "14/14 [==============================] - 21s 1s/step - loss: 0.0269 - acc: 0.9929 - val_loss: 0.2847 - val_acc: 0.9490\n",
            "Epoch 19/20\n",
            "14/14 [==============================] - 21s 1s/step - loss: 0.2541 - acc: 0.9625 - val_loss: 0.0953 - val_acc: 0.9541\n",
            "Epoch 20/20\n",
            "14/14 [==============================] - 21s 1s/step - loss: 0.0465 - acc: 0.9905 - val_loss: 0.1502 - val_acc: 0.9643\n"
          ]
        }
      ],
      "source": [
        "class myCallback(tf.keras.callbacks.Callback):\n",
        "  def on_epoch_end(self, epoch, logs={}):\n",
        "    if(logs.get('val_loss')<=0.1099 and logs.get('loss')<=0.1099):\n",
        "      print('\\n\\n Reached The Destination!')\n",
        "      self.model.stop_training = True\n",
        "callbacks = myCallback()\n",
        "\n",
        "history = model.fit(\n",
        "    train_generator,\n",
        "    steps_per_epoch = 14,\n",
        "    epochs = 20,\n",
        "    validation_data = validation_generator,\n",
        "    validation_steps = 14,\n",
        "    callbacks=[callbacks]\n",
        ")"
      ]
    },
    {
      "cell_type": "code",
      "execution_count": 2,
      "metadata": {},
      "outputs": [],
      "source": [
        "## After training our top layers for 20 epochs, we will freeze the first 249 layers of the models and train the rest i.e the top 2 inception blocks. Here, we will use SGD as an optimizer with a learning rate of 0.0001.\n",
        "\n"
      ]
    },
    {
      "cell_type": "code",
      "execution_count": null,
      "metadata": {
        "colab": {
          "base_uri": "https://localhost:8080/",
          "height": 399
        },
        "colab_type": "code",
        "id": "quS_DTwyBT1K",
        "outputId": "9cd463ed-a852-4368-ca52-316938eb2e7e"
      },
      "outputs": [
        {
          "name": "stdout",
          "output_type": "stream",
          "text": [
            "Epoch 1/10\n",
            "14/14 [==============================] - 22s 2s/step - loss: 0.3753 - acc: 0.8482 - val_loss: 0.1260 - val_acc: 0.9643\n",
            "Epoch 2/10\n",
            "14/14 [==============================] - 21s 1s/step - loss: 0.2742 - acc: 0.8821 - val_loss: 0.1200 - val_acc: 0.9643\n",
            "Epoch 3/10\n",
            "14/14 [==============================] - 21s 2s/step - loss: 0.1847 - acc: 0.9190 - val_loss: 0.1180 - val_acc: 0.9643\n",
            "Epoch 4/10\n",
            "14/14 [==============================] - 22s 2s/step - loss: 0.1505 - acc: 0.9321 - val_loss: 0.1174 - val_acc: 0.9592\n",
            "Epoch 5/10\n",
            "14/14 [==============================] - 21s 2s/step - loss: 0.1281 - acc: 0.9458 - val_loss: 0.1172 - val_acc: 0.9643\n",
            "Epoch 6/10\n",
            "14/14 [==============================] - 21s 1s/step - loss: 0.1105 - acc: 0.9565 - val_loss: 0.1118 - val_acc: 0.9694\n",
            "Epoch 7/10\n",
            "14/14 [==============================] - 22s 2s/step - loss: 0.0788 - acc: 0.9768 - val_loss: 0.1146 - val_acc: 0.9643\n",
            "Epoch 8/10\n",
            "14/14 [==============================] - 21s 1s/step - loss: 0.0778 - acc: 0.9714 - val_loss: 0.1178 - val_acc: 0.9643\n",
            "Epoch 9/10\n",
            "14/14 [==============================] - 21s 2s/step - loss: 0.0727 - acc: 0.9792 - val_loss: 0.1180 - val_acc: 0.9643\n",
            "Epoch 10/10\n",
            "14/14 [==============================] - 21s 2s/step - loss: 0.0630 - acc: 0.9804 - val_loss: 0.1186 - val_acc: 0.9643\n",
            "311\n"
          ]
        }
      ],
      "source": [
        "\n",
        "for layer in model.layers[:249]:\n",
        "   layer.trainable = False\n",
        "for layer in model.layers[249:]:\n",
        "   layer.trainable = True\n",
        "\n",
        "from tensorflow.keras.optimizers import SGD\n",
        "model.compile(optimizer=SGD(lr=0.0001, momentum=0.9), loss='categorical_crossentropy', metrics=['acc'])\n",
        "\n",
        "\n",
        "class myCallback(tf.keras.callbacks.Callback):\n",
        "  def on_epoch_end(self, epoch, logs={}):\n",
        "    if(logs.get('val_loss')<=0.1099 and logs.get('loss')<=0.1099):\n",
        "      print('\\n\\n Reached The Destination!')\n",
        "      self.model.stop_training = True\n",
        "callbacks = myCallback()\n",
        "\n",
        "history = model.fit(\n",
        "    train_generator,\n",
        "    steps_per_epoch = 14,\n",
        "    epochs = 10,\n",
        "    validation_data = validation_generator,\n",
        "    validation_steps = 14,\n",
        "    callbacks=[callbacks]\n",
        ")\n",
        "print(len(base_model.layers))"
      ]
    },
    {
      "cell_type": "code",
      "execution_count": 3,
      "metadata": {},
      "outputs": [],
      "source": [
        "## After training for 10 epochs, we get a training accuracy of 98.04 and a validation accuracy of 96.43. The training and validation losses are 0.063 and 0.118 respectively."
      ]
    },
    {
      "cell_type": "code",
      "execution_count": null,
      "metadata": {
        "colab": {
          "base_uri": "https://localhost:8080/",
          "height": 581
        },
        "colab_type": "code",
        "id": "MfavSDNZkKXq",
        "outputId": "e22978a0-ba3c-4ec2-f226-e12f06abe502"
      },
      "outputs": [
        {
          "data": {
            "image/png": "[encoded data removed]",
            "text/plain": [
              "<Figure size 432x288 with 1 Axes>"
            ]
          },
          "metadata": {
            "needs_background": "light",
            "tags": []
          },
          "output_type": "display_data"
        },
        {
          "data": {
            "text/plain": [
              "<Figure size 432x288 with 0 Axes>"
            ]
          },
          "metadata": {
            "tags": []
          },
          "output_type": "display_data"
        },
        {
          "data": {
            "image/png": "[encoded data removed]",
            "text/plain": [
              "<Figure size 432x288 with 1 Axes>"
            ]
          },
          "metadata": {
            "needs_background": "light",
            "tags": []
          },
          "output_type": "display_data"
        },
        {
          "data": {
            "text/plain": [
              "<Figure size 432x288 with 0 Axes>"
            ]
          },
          "metadata": {
            "tags": []
          },
          "output_type": "display_data"
        }
      ],
      "source": [
        "%matplotlib inline\n",
        "import matplotlib.pyplot as plt\n",
        "acc = history.history['acc']\n",
        "val_acc = history.history['val_acc']\n",
        "loss = history.history['loss']\n",
        "val_loss = history.history['val_loss']\n",
        "\n",
        "epochs = range(len(acc))\n",
        "\n",
        "plt.plot(epochs, acc, 'g', label='Training accuracy')\n",
        "plt.plot(epochs, val_acc, 'b', label='Validation accuracy')\n",
        "plt.title('Training and validation accuracy')\n",
        "\n",
        "plt.legend(loc=0)\n",
        "plt.figure()\n",
        "plt.show()\n",
        "\n",
        "plt.plot(epochs, loss, 'r', label='Training loss')\n",
        "plt.plot(epochs, val_loss, 'orange', label='Validation loss')\n",
        "plt.title('Training and validation loss')\n",
        "\n",
        "plt.legend(loc=0)\n",
        "plt.figure()\n",
        "plt.show()"
      ]
    },
    {
      "cell_type": "code",
      "execution_count": 4,
      "metadata": {
        "colab": {},
        "colab_type": "code",
        "id": "lsD4EFzQNSSx"
      },
      "outputs": [
        {
          "ename": "NameError",
          "evalue": "name 'model' is not defined",
          "output_type": "error",
          "traceback": [
            "\u001b[0;31m---------------------------------------------------------------------------\u001b[0m",
            "\u001b[0;31mNameError\u001b[0m                                 Traceback (most recent call last)",
            "Cell \u001b[0;32mIn [4], line 1\u001b[0m\n\u001b[0;32m----> 1\u001b[0m model\u001b[39m.\u001b[39msave(\u001b[39m\"\u001b[39m\u001b[39mfiremodel.h5\u001b[39m\u001b[39m\"\u001b[39m)\n",
            "\u001b[0;31mNameError\u001b[0m: name 'model' is not defined"
          ]
        }
      ],
      "source": [
        "model.save(\"firemodel.h5\")\n"
      ]
    }
  ],
  "metadata": {
    "accelerator": "GPU",
    "colab": {
      "collapsed_sections": [],
      "name": "InceptionFireDetection.ipynb",
      "provenance": []
    },
    "kernelspec": {
      "display_name": "Python 3.9.6 64-bit",
      "language": "python",
      "name": "python3"
    },
    "language_info": {
      "codemirror_mode": {
        "name": "ipython",
        "version": 3
      },
      "file_extension": ".py",
      "mimetype": "text/x-python",
      "name": "python",
      "nbconvert_exporter": "python",
      "pygments_lexer": "ipython3",
      "version": "3.9.6"
    },
    "vscode": {
      "interpreter": {
        "hash": "31f2aee4e71d21fbe5cf8b01ff0e069b9275f58929596ceb00d14d90e3e16cd6"
      }
    }
  },
  "nbformat": 4,
  "nbformat_minor": 0
}
